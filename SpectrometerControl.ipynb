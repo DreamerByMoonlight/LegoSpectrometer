{
 "cells": [
  {
   "cell_type": "markdown",
   "id": "c442d688",
   "metadata": {},
   "source": [
    "### Spectrometer Control Notebook\n",
    "\n",
    "Make sure you followed the instructions in the Camera Control Notebook and were able to record a spectrum with your Lego Spectrometer 📈."
   ]
  },
  {
   "cell_type": "code",
   "execution_count": null,
   "id": "ea801a84",
   "metadata": {
    "scrolled": true
   },
   "outputs": [],
   "source": [
    "import io\n",
    "import csv\n",
    "import ipywidgets as widgets\n",
    "import ipywidgets as widgets\n",
    "import matplotlib.pyplot as plt\n",
    "import numpy as np\n",
    "\n",
    "from picamera import PiCamera\n",
    "from PIL import Image, ImageDraw\n",
    "from time import sleep, strftime\n",
    "from IPython.display import clear_output, HTML\n",
    "\n",
    "%matplotlib inline\n",
    "plt.rcParams['figure.figsize'] = [10, 8]"
   ]
  },
  {
   "cell_type": "markdown",
   "id": "bb912792",
   "metadata": {},
   "source": [
    "# Helpful routines\n",
    "\n",
    "In this section we define various helper routines we use for spectrometer control. We will go over them, but you can think of them as 'fancy' commands you can use later in this notebook. Make sure you execute all the cells.\n",
    "\n",
    "### Routine `takePicture()`\n",
    "\n",
    "To make things easy, we define a routine to take an image with the Raspberry Pi Camera. The camera you have has a maximum resolution of 2592 x 1944 pixels. The options are set for the spectrometer setup. Note we rotate the image 270 degrees."
   ]
  },
  {
   "cell_type": "code",
   "execution_count": null,
   "id": "3946852a",
   "metadata": {
    "scrolled": true
   },
   "outputs": [],
   "source": [
    "def takePicture(shutter):\n",
    "    \n",
    "    camera = PiCamera()\n",
    "    stream = io.BytesIO()\n",
    "    try:\n",
    "        # Full camera resolution is 2592 x 1944 - we run at 1/4 resolution \n",
    "        camera.resolution = (648, 486)        \n",
    "        camera.framerate= 5\n",
    "        camera.rotation = 270\n",
    "        camera.iso = 800\n",
    "        camera.shutter_speed = shutter\n",
    "        camera.awb_mode = 'off'\n",
    "        camera.awb_gains = (1, 1)\n",
    "\n",
    "        print(\"Allowing camera to warmup\")\n",
    "        sleep(1)\n",
    "        print(\"Capturing image\")\n",
    "\n",
    "        camera.capture(stream, format='jpeg')\n",
    "        stream.seek(0)\n",
    "        raw = Image.open(stream)\n",
    "    finally:\n",
    "        camera.close()\n",
    "    return raw"
   ]
  },
  {
   "cell_type": "markdown",
   "id": "0681553a",
   "metadata": {},
   "source": [
    "### Routine `cropImage()`\n",
    "\n",
    "This routine shows the image with coordinates and a grid and shows the cropping area. Optionally it can rotate the image so the spectrum lines are vertical."
   ]
  },
  {
   "cell_type": "code",
   "execution_count": null,
   "id": "c9e5aeb9",
   "metadata": {},
   "outputs": [],
   "source": [
    "def cropImage(img,crop,angle):\n",
    "    \n",
    "    if(angle != 0.0):\n",
    "        img = img.rotate(angle)\n",
    "        \n",
    "    temp = img.copy();\n",
    "    draw = ImageDraw.Draw(temp)\n",
    "    draw.rectangle(crop, outline=(0, 255, 0), width=2)\n",
    "    \n",
    "    # Show the drop area\n",
    "    ax = plt.gca()\n",
    "    ax.grid(color='yellow', linestyle='dotted', linewidth=1)\n",
    "    plt.imshow(temp)\n",
    "    \n",
    "    return img.crop(crop)"
   ]
  },
  {
   "cell_type": "markdown",
   "id": "70045825",
   "metadata": {},
   "source": [
    "### Routine `adjustBrightness()`\n",
    "\n",
    "This is an optional step. If checks for the larges color value and scales it up to the maximum allowed value of 255. This is especially good for spectra with weak signals. "
   ]
  },
  {
   "cell_type": "code",
   "execution_count": null,
   "id": "f68b7fe9",
   "metadata": {},
   "outputs": [],
   "source": [
    "def adjustBrightness(image):\n",
    "    \n",
    "    pixels = np.asarray(image)\n",
    "    maxcol = [pixels[:,:,0].max(),pixels[:,:,1].max(),pixels[:,:,2].max()]\n",
    "    factor = int(255 / max(maxcol))\n",
    "    print ('Brightness factor : ', factor)\n",
    "    \n",
    "    adjusted = factor*pixels\n",
    "    return Image.fromarray(np.uint8(adjusted)) # Convery if back to an image"
   ]
  },
  {
   "cell_type": "markdown",
   "id": "848dccb0",
   "metadata": {},
   "source": [
    "### Routine `getSpectrum()`\n",
    "\n",
    "To get from the cropped image to the spectrum (line plot), we need to average values along columns (y) and the colors (r,g,b), so our spectrum is a list of values with the length of the width of the image. We then use the known wavelengths of two color lines (e.g from the CFL bulb) to convert the pixel number along x to a wavelength."
   ]
  },
  {
   "cell_type": "code",
   "execution_count": null,
   "id": "ee548e94",
   "metadata": {
    "scrolled": true
   },
   "outputs": [],
   "source": [
    "def getSpectrum(processed, wavelength1, wavelength2, pixel1, pixel2):\n",
    "    \n",
    "    spectrum = np.asarray(processed)            # Convery to Numpy array for calculations\n",
    "    spectrum = np.average(spectrum, axis=(0,2)) # Average columns and color values\n",
    "    spectrum = spectrum-(0.9*min(spectrum))     # Subtract baseline\n",
    "    \n",
    "    if (wavelength1 > wavelength2):\n",
    "        print ('ERROR: First wavelength needs to be smaller than second one given!')\n",
    "        \n",
    "    wavelength = np.arange(float(len(spectrum)))\n",
    "    factor = (wavelength2 - wavelength1) / (pixel2 - pixel1)\n",
    "    wavelength = wavelength1 + (wavelength - pixel1) * factor\n",
    "    \n",
    "    return wavelength, spectrum"
   ]
  },
  {
   "cell_type": "markdown",
   "id": "38e5bca7",
   "metadata": {},
   "source": [
    "### Routine `saveCSV()`\n",
    "\n",
    "Saving our spectrum to a CSV file."
   ]
  },
  {
   "cell_type": "code",
   "execution_count": null,
   "id": "67ba63d1",
   "metadata": {},
   "outputs": [],
   "source": [
    "def saveCSV(fname, spectrum, wavelength):\n",
    "    with open(fname, 'w', encoding='UTF8', newline='') as f:\n",
    "        writer = csv.writer(f)\n",
    "        writer.writerow([\"Wavelength\",\"Intensity\"])\n",
    "\n",
    "        for l,i in zip(wavelength, spectrum):\n",
    "            writer.writerow([l,i])\n",
    "\n",
    "    print (\"Data written to file \"+fname)"
   ]
  },
  {
   "cell_type": "markdown",
   "id": "5b5a5846",
   "metadata": {},
   "source": [
    "### Routine `createHTML()`\n",
    "\n",
    "Creates a HTML page with results using the file `template.html`."
   ]
  },
  {
   "cell_type": "code",
   "execution_count": null,
   "id": "2a751372",
   "metadata": {},
   "outputs": [],
   "source": [
    "def createHTML(lightSource, scientistName, transmissionSample, experimentNotes, measurementTaken, shutter):\n",
    "    \n",
    "    hfile=\"docs/experiment-\"+measurementTaken+\".html\"\n",
    "    \n",
    "    with open(\"docs/template.html\", \"rt\") as fin:\n",
    "        with open(hfile, \"wt\") as fout:\n",
    "            for line in fin:\n",
    "                line = line.replace('%%lightSource%%', str(lightSource))\n",
    "                line = line.replace('%%measurementTaken%%', str(measurementTaken))\n",
    "                line = line.replace('%%scientistName%%', str(scientistName))\n",
    "                line = line.replace('%%transmissionSample%%', str(transmissionSample))\n",
    "                line = line.replace('%%shutter%%', str(shutter))\n",
    "                line = line.replace('%%experimentNotes%%', str(experimentNotes))\n",
    "\n",
    "                fout.write(line)\n",
    "\n",
    "    print(\"Created \"+hfile)\n",
    "    \n",
    "    entry='''<tr><td><img src=\"images/processed-{0}.jpg\" align=\"right\">\n",
    "            Scientist: <strong>{1}</strong><br>\n",
    "            Light source: <strong>{2}</strong><br>\n",
    "            Transmission sample: <strong>{3}</strong><br>\n",
    "            Date and time: <strong>{0}</strong><br>\n",
    "            <a href=\"experiment-{0}.html\" target=\"_blank\"><button>Details</button></a></td></tr>\n",
    "        <!--%%entry%%-->'''\n",
    "    \n",
    "    out=\"\"\n",
    "    with open(\"docs/index.html\", \"rt\") as fin:\n",
    "        for line in fin:\n",
    "            out += line.replace('<!--%%entry%%-->', \n",
    "                   entry.format(measurementTaken, scientistName, lightSource, transmissionSample))\n",
    "            \n",
    "    with open(\"docs/index.html\", \"wt\") as fout:\n",
    "        fout.write(out)\n",
    "        \n",
    "    print (\"Updated index.\")"
   ]
  },
  {
   "cell_type": "markdown",
   "id": "dd6e86a3",
   "metadata": {},
   "source": [
    "# Spectrometer Control\n",
    "### Step 1 - Take image\n",
    "\n",
    "In this first cell we set all the experiment variables and descriptions and take the image. The shutter is given in *microseconds*, so for one second you would enter 1000000. The longest exposure is 6 seconds or 6000000. The other variables are explained in the comments. **Make sure to  update all the fields as they are used when making the log page.**"
   ]
  },
  {
   "cell_type": "code",
   "execution_count": null,
   "id": "7fe1d869",
   "metadata": {
    "scrolled": false
   },
   "outputs": [],
   "source": [
    "# Change these to match your experiment\n",
    "\n",
    "lightSource        = \"Incandescent light bulb\"\n",
    "scientistName      = \"Thomas P\"\n",
    "transmissionSample = \"None\"\n",
    "experimentNotes    = '''\n",
    "This is a test measurement during initial code development.\n",
    "Tracing paper used between light and entrance slit. \n",
    "Large slit used.\n",
    "'''\n",
    "measurementTaken = strftime(\"%Y%m%d-%H%M%S\") \n",
    "\n",
    "# Exposure time\n",
    "shutter = 50000\n",
    "\n",
    "# Take the image, save and display\n",
    "raw = takePicture(shutter)\n",
    "raw "
   ]
  },
  {
   "cell_type": "markdown",
   "id": "692bb0d7",
   "metadata": {},
   "source": [
    "### Step 2 - Cropping the image\n",
    "\n",
    "Next we need to crop the image to just include the area showing the spectrum. We will first add a rectange to the image to show the current area. The crop region is given by the top left and bottom right points. **Keep ajusting the crop area and rerun this cell until the area only includes the 'good' part of the spectrum.**"
   ]
  },
  {
   "cell_type": "code",
   "execution_count": null,
   "id": "d85f7353",
   "metadata": {
    "scrolled": false
   },
   "outputs": [],
   "source": [
    "angle=0.0\n",
    "crop=[0,200,200,320]\n",
    "\n",
    "processed = cropImage(raw,crop,angle)"
   ]
  },
  {
   "cell_type": "markdown",
   "id": "16c902c5",
   "metadata": {},
   "source": [
    "And here is the cropped images stored in the `processed` variable."
   ]
  },
  {
   "cell_type": "code",
   "execution_count": null,
   "id": "b4b6f58d",
   "metadata": {
    "scrolled": true
   },
   "outputs": [],
   "source": [
    "processed"
   ]
  },
  {
   "cell_type": "markdown",
   "id": "176bac33",
   "metadata": {},
   "source": [
    "We can adjust the brightness of the picture to scale the highest color value to its maximum of 255."
   ]
  },
  {
   "cell_type": "code",
   "execution_count": null,
   "id": "d97539b4",
   "metadata": {},
   "outputs": [],
   "source": [
    "processed = adjustBrightness(processed)\n",
    "processed"
   ]
  },
  {
   "cell_type": "markdown",
   "id": "5d584c4d",
   "metadata": {},
   "source": [
    "### Step 3 - Extracting spectum and converting to wavelength\n",
    "\n",
    "Next we need to extract a 1D spectrum by averaging avlues along columns of the image. We also need to convert the pixel number on the x-axis to wavelenth. "
   ]
  },
  {
   "cell_type": "code",
   "execution_count": null,
   "id": "13d7e6bc",
   "metadata": {
    "scrolled": false
   },
   "outputs": [],
   "source": [
    "# pixel number of the green and orange line in the CFL spectrum \n",
    "pixelGreen = 120\n",
    "pixelOrange = 175\n",
    "\n",
    "# Wavelength in nm for those lines (e.g. from reference spectrum)\n",
    "wavelengthGreen = 545\n",
    "wavelengthOrange = 615\n",
    "\n",
    "wavelength, spectrum = getSpectrum(processed, wavelengthGreen, wavelengthOrange, pixelGreen, pixelOrange)\n",
    "\n",
    "plt.xlabel('Wavelength (nm)')\n",
    "plt.plot(wavelength, spectrum, color='blue')\n",
    "plt.savefig(\"docs/images/spectrum-\"+measurementTaken+\".jpg\")"
   ]
  },
  {
   "cell_type": "markdown",
   "id": "2a19d915",
   "metadata": {},
   "source": [
    "### Step 4 - Saving everything\n",
    "\n",
    "We will save the raw image, the processed image and the spectrum plot."
   ]
  },
  {
   "cell_type": "code",
   "execution_count": null,
   "id": "38a5c4fa",
   "metadata": {},
   "outputs": [],
   "source": [
    "raw.save(\"docs/images/raw-\"+measurementTaken+\".jpg\")\n",
    "processed.save(\"docs/images/processed-\"+measurementTaken+\".jpg\")\n",
    "saveCSV(\"docs/data/spectrum-\"+measurementTaken+\".csv\", spectrum, wavelength)"
   ]
  },
  {
   "cell_type": "markdown",
   "id": "19a371e0",
   "metadata": {},
   "source": [
    "Last we save the results on a webpage (log book). You can style the page by editing `template.html`. Make sure not to change the `%%xxx%%` placeholders."
   ]
  },
  {
   "cell_type": "code",
   "execution_count": null,
   "id": "a9e7552a",
   "metadata": {
    "scrolled": false
   },
   "outputs": [],
   "source": [
    "createHTML(lightSource, scientistName, transmissionSample, experimentNotes, measurementTaken, shutter)"
   ]
  },
  {
   "cell_type": "markdown",
   "id": "0cb384b5",
   "metadata": {},
   "source": [
    "If you want to see the log book webpages, you can either commit and push all files to GitHub. Alternatively you can open a terminal window and start a webserver on your Raspberry Pi using these commands\n",
    "\n",
    "```\n",
    "        cd LegoSpectrometer/docs\n",
    "        python3 -m http.server\n",
    "```\n",
    "\n",
    "The directory might be different for you. Then in a new tab in your webbrowser navigate to `orcspi.local:8000` or use your IP address if `orcspi.local` does not work."
   ]
  },
  {
   "cell_type": "markdown",
   "id": "b5303a7a",
   "metadata": {},
   "source": [
    "## You are a true scientist now 👩‍🔬👩🏾‍🔬"
   ]
  }
 ],
 "metadata": {
  "kernelspec": {
   "display_name": "Python 3",
   "language": "python",
   "name": "python3"
  },
  "language_info": {
   "codemirror_mode": {
    "name": "ipython",
    "version": 3
   },
   "file_extension": ".py",
   "mimetype": "text/x-python",
   "name": "python",
   "nbconvert_exporter": "python",
   "pygments_lexer": "ipython3",
   "version": "3.7.3"
  }
 },
 "nbformat": 4,
 "nbformat_minor": 5
}
