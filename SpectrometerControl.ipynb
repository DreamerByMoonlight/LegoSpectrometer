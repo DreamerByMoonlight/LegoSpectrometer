{
 "cells": [
  {
   "cell_type": "markdown",
   "id": "c442d688",
   "metadata": {},
   "source": [
    "### Getting the camera working\n",
    "\n",
    "Here are some steps needed. First you need to enable the camera. In a terminal type `sudo raspi-config` and then use the arrow keys to select interface options and then enable the camera. A reboot is required.\n",
    "\n",
    "Next we need to install the picamera Python modulg. In a terminal type the command\n",
    "\n",
    "`sudo apt-get install python3-picamera`\n",
    "\n",
    "Because the red led on the camera creates light inside the spectrometer, we can turn it off by adding this line in `/boot/config.txt` and rebooting\n",
    "\n",
    "`disable_camera_led=1`\n",
    "\n",
    "That's it."
   ]
  },
  {
   "cell_type": "code",
   "execution_count": 33,
   "id": "ea801a84",
   "metadata": {},
   "outputs": [],
   "source": [
    "import numpy as np\n",
    "import io\n",
    "import matplotlib.pyplot as plt\n",
    "import matplotlib.image as img\n",
    "import ipywidgets as widgets\n",
    "\n",
    "from picamera import PiCamera\n",
    "from PIL import Image\n",
    "from time import sleep, strftime\n",
    "from IPython.display import clear_output"
   ]
  },
  {
   "cell_type": "markdown",
   "id": "bb912792",
   "metadata": {},
   "source": [
    "### Some helper routines"
   ]
  },
  {
   "cell_type": "code",
   "execution_count": 2,
   "id": "3946852a",
   "metadata": {},
   "outputs": [],
   "source": [
    "def take_picture(shutter):\n",
    "    print(\"Initialising camera\")\n",
    "    camera = PiCamera()\n",
    "    stream = io.BytesIO()\n",
    "    try:\n",
    "        print(\"Allowing camera to warmup\")\n",
    "        #camera.resolution = (2592, 1944)\n",
    "        camera.resolution = (1296, 972)        \n",
    "        camera.framerate= 10\n",
    "        camera.rotation = 270\n",
    "        camera.iso = 800\n",
    "        camera.shutter_speed = shutter\n",
    "        camera.zoom = (0.50, 0.00, 0.15, 0.50)\n",
    "        camera.awb_mode = 'off'\n",
    "        camera.awb_gains = (1, 1)\n",
    "        sleep(3)\n",
    "        print(\"Capturing image\")\n",
    "        camera.capture(stream, format='jpeg')\n",
    "        stream.seek(0)\n",
    "        raw = Image.open(stream)\n",
    "    finally:\n",
    "        camera.close()\n",
    "    return raw"
   ]
  },
  {
   "cell_type": "code",
   "execution_count": 3,
   "id": "6bc5bd34",
   "metadata": {},
   "outputs": [],
   "source": [
    "def process_image(raw):\n",
    "\n",
    "    pixels = np.asarray(raw)\n",
    "    \n",
    "    # Averaging along y\n",
    "    pixels = np.average(pixels, axis=0)\n",
    "    processed = Image.fromarray(np.uint8([pixels])) # The extra [] is to get back to image dimensions\n",
    "    width, height = processed.size\n",
    "    processed = processed.resize((width,255))\n",
    "    \n",
    "    return processed"
   ]
  },
  {
   "cell_type": "code",
   "execution_count": 4,
   "id": "566878d1",
   "metadata": {},
   "outputs": [],
   "source": [
    "def get_spectrum(processed):\n",
    "    spectrum = np.asarray(processed)\n",
    "    spectrum = np.sum(spectrum[0], axis=1)\n",
    "    \n",
    "    return spectrum"
   ]
  },
  {
   "cell_type": "code",
   "execution_count": 39,
   "id": "49513b86",
   "metadata": {},
   "outputs": [],
   "source": [
    "def display_results(processed,spectrum,fname):\n",
    "    plt.rcParams[\"figure.figsize\"] = (15,5)\n",
    "    plt.rcParams.update({'font.size': 18})\n",
    "\n",
    "    plt.xlabel('Pixel')\n",
    "    plt.yticks([])\n",
    "    plt.title('ORCSGirls Lego Spectrometer')\n",
    "    \n",
    "    plt.imshow(processed, origin='lower', aspect=2)\n",
    "    plt.plot(spectrum, color='yellow')\n",
    "\n",
    "    plt.savefig(fname+'_processed.jpg')\n",
    "    print(\"Plot saved to \"+fname+\"_processed.jpg\")\n",
    "    \n",
    "    plt.show()"
   ]
  },
  {
   "cell_type": "markdown",
   "id": "d6ac23f1",
   "metadata": {},
   "source": [
    "### Main control program"
   ]
  },
  {
   "cell_type": "code",
   "execution_count": 21,
   "id": "095a998f",
   "metadata": {},
   "outputs": [
    {
     "name": "stdout",
     "output_type": "stream",
     "text": [
      "Initialising camera\n",
      "Allowing camera to warmup\n",
      "Capturing image\n",
      "Plot saved to Spectra/Spectrum-20210927-101211_processed.jpg\n"
     ]
    },
    {
     "data": {
      "image/png": "[encoded data removed]",
      "text/plain": [
       "<Figure size 1080x360 with 1 Axes>"
      ]
     },
     "metadata": {
      "needs_background": "light"
     },
     "output_type": "display_data"
    }
   ],
   "source": [
    "timestr = strftime(\"%Y%m%d-%H%M%S\")\n",
    "fname = 'Spectra/Spectrum-'+timestr\n",
    "\n",
    "raw = take_picture(6000000)\n",
    "raw.save(fname+\"_raw.jpg\")\n",
    "\n",
    "processed = process_image(raw)\n",
    "spectrum = get_spectrum(processed)\n",
    "display_results(processed, spectrum, fname)"
   ]
  },
  {
   "cell_type": "code",
   "execution_count": null,
   "id": "c9fbf643",
   "metadata": {},
   "outputs": [],
   "source": []
  },
  {
   "cell_type": "code",
   "execution_count": null,
   "id": "105b3001",
   "metadata": {},
   "outputs": [],
   "source": []
  }
 ],
 "metadata": {
  "kernelspec": {
   "display_name": "Python 3",
   "language": "python",
   "name": "python3"
  },
  "language_info": {
   "codemirror_mode": {
    "name": "ipython",
    "version": 3
   },
   "file_extension": ".py",
   "mimetype": "text/x-python",
   "name": "python",
   "nbconvert_exporter": "python",
   "pygments_lexer": "ipython3",
   "version": "3.7.3"
  }
 },
 "nbformat": 4,
 "nbformat_minor": 5
}
