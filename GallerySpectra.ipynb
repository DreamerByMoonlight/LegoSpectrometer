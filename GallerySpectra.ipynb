{
 "cells": [
  {
   "cell_type": "markdown",
   "id": "e89329ad",
   "metadata": {},
   "source": [
    "## Spectra Gallery\n",
    "\n",
    "Gallery code from https://mindtrove.info/"
   ]
  },
  {
   "cell_type": "code",
   "execution_count": 4,
   "id": "0241d85f",
   "metadata": {},
   "outputs": [],
   "source": [
    "from IPython.display import HTML, Image\n",
    "\n",
    "def _src_from_data(data):\n",
    "    \"\"\"Base64 encodes image bytes for inclusion in an HTML img element\"\"\"\n",
    "    img_obj = Image(data=data)\n",
    "    for bundle in img_obj._repr_mimebundle_():\n",
    "        for mimetype, b64value in bundle.items():\n",
    "            if mimetype.startswith('image/'):\n",
    "                return f'data:{mimetype};base64,{b64value}'\n",
    "\n",
    "def gallery(images, row_height='auto'):\n",
    "    \"\"\"Shows a set of images in a gallery that flexes with the width of the notebook.\n",
    "    \n",
    "    Parameters\n",
    "    ----------\n",
    "    images: list of str or bytes\n",
    "        URLs or bytes of images to display\n",
    "\n",
    "    row_height: str\n",
    "        CSS height value to assign to all images. Set to 'auto' by default to show images\n",
    "        with their native dimensions. Set to a value like '250px' to make all rows\n",
    "        in the gallery equal height.\n",
    "    \"\"\"\n",
    "    figures = []\n",
    "    for image in images:\n",
    "        if isinstance(image, bytes):\n",
    "            src = _src_from_data(image)\n",
    "            caption = ''\n",
    "        else:\n",
    "            src = image\n",
    "            caption = f'<figcaption style=\"font-size: 0.6em\">{image}</figcaption>'\n",
    "        figures.append(f'''\n",
    "            <figure style=\"margin: 5px !important;\">\n",
    "              <img src=\"{src}\" style=\"height: {row_height}\">\n",
    "              {caption}\n",
    "            </figure>\n",
    "        ''')\n",
    "    return HTML(data=f'''\n",
    "        <div style=\"display: flex; flex-flow: row wrap; text-align: center;\">\n",
    "        {''.join(figures)}\n",
    "        </div>\n",
    "    ''')"
   ]
  },
  {
   "cell_type": "markdown",
   "id": "fa71b593",
   "metadata": {},
   "source": [
    "### Spectra\n",
    "\n",
    "Loop over all images and show gallery."
   ]
  },
  {
   "cell_type": "code",
   "execution_count": 7,
   "id": "47f1d2ea",
   "metadata": {},
   "outputs": [
    {
     "data": {
      "text/html": [
       "\n",
       "        <div style=\"display: flex; flex-flow: row wrap; text-align: center;\">\n",
       "        \n",
       "            <figure style=\"margin: 5px !important;\">\n",
       "              <img src=\"Spectra/Spectrum-20210925-194138.jpg\" style=\"height: 250px\">\n",
       "              <figcaption style=\"font-size: 0.6em\">Spectra/Spectrum-20210925-194138.jpg</figcaption>\n",
       "            </figure>\n",
       "        \n",
       "            <figure style=\"margin: 5px !important;\">\n",
       "              <img src=\"Spectra/Spectrum-20210925-194646.jpg\" style=\"height: 250px\">\n",
       "              <figcaption style=\"font-size: 0.6em\">Spectra/Spectrum-20210925-194646.jpg</figcaption>\n",
       "            </figure>\n",
       "        \n",
       "            <figure style=\"margin: 5px !important;\">\n",
       "              <img src=\"Spectra/Spectrum-20210925-194659.jpg\" style=\"height: 250px\">\n",
       "              <figcaption style=\"font-size: 0.6em\">Spectra/Spectrum-20210925-194659.jpg</figcaption>\n",
       "            </figure>\n",
       "        \n",
       "            <figure style=\"margin: 5px !important;\">\n",
       "              <img src=\"Spectra/Spectrum-20210925-194740.jpg\" style=\"height: 250px\">\n",
       "              <figcaption style=\"font-size: 0.6em\">Spectra/Spectrum-20210925-194740.jpg</figcaption>\n",
       "            </figure>\n",
       "        \n",
       "            <figure style=\"margin: 5px !important;\">\n",
       "              <img src=\"Spectra/Spectrum-20210925-194810.jpg\" style=\"height: 250px\">\n",
       "              <figcaption style=\"font-size: 0.6em\">Spectra/Spectrum-20210925-194810.jpg</figcaption>\n",
       "            </figure>\n",
       "        \n",
       "            <figure style=\"margin: 5px !important;\">\n",
       "              <img src=\"Spectra/Spectrum-20210925-194913.jpg\" style=\"height: 250px\">\n",
       "              <figcaption style=\"font-size: 0.6em\">Spectra/Spectrum-20210925-194913.jpg</figcaption>\n",
       "            </figure>\n",
       "        \n",
       "        </div>\n",
       "    "
      ],
      "text/plain": [
       "<IPython.core.display.HTML object>"
      ]
     },
     "execution_count": 7,
     "metadata": {},
     "output_type": "execute_result"
    }
   ],
   "source": [
    "import glob\n",
    "\n",
    "files = sorted(glob.glob(\"Spectra/*\"))\n",
    "\n",
    "gallery(files, row_height='250px')\n"
   ]
  },
  {
   "cell_type": "code",
   "execution_count": null,
   "id": "7522dca8",
   "metadata": {},
   "outputs": [],
   "source": []
  }
 ],
 "metadata": {
  "kernelspec": {
   "display_name": "Python 3",
   "language": "python",
   "name": "python3"
  },
  "language_info": {
   "codemirror_mode": {
    "name": "ipython",
    "version": 3
   },
   "file_extension": ".py",
   "mimetype": "text/x-python",
   "name": "python",
   "nbconvert_exporter": "python",
   "pygments_lexer": "ipython3",
   "version": "3.7.3"
  }
 },
 "nbformat": 4,
 "nbformat_minor": 5
}
