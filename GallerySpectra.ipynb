{
 "cells": [
  {
   "cell_type": "markdown",
   "id": "e89329ad",
   "metadata": {},
   "source": [
    "## Spectra Gallery\n",
    "\n",
    "Gallery code from https://mindtrove.info/"
   ]
  },
  {
   "cell_type": "code",
   "execution_count": null,
   "id": "0241d85f",
   "metadata": {
    "scrolled": true
   },
   "outputs": [],
   "source": [
    "from IPython.display import HTML, Image\n",
    "import glob"
   ]
  },
  {
   "cell_type": "code",
   "execution_count": null,
   "id": "758e37fd",
   "metadata": {
    "scrolled": true
   },
   "outputs": [],
   "source": [
    "def gallery(images, row_height='auto'):\n",
    "    figures = []\n",
    "    for image in images:\n",
    "        src = image\n",
    "        caption = f'<figcaption style=\"font-size: 0.6em\">{image}</figcaption>'\n",
    "        figures.append(f'''\n",
    "            <figure style=\"margin: 5px !important;\">\n",
    "              <img src=\"{src}\" style=\"height: {row_height}\">\n",
    "              {caption}\n",
    "            </figure>\n",
    "        ''')\n",
    "    return HTML(data=f'''\n",
    "        <div style=\"display: flex; flex-flow: row wrap; text-align: center;\">\n",
    "        {''.join(figures)}\n",
    "        </div>\n",
    "    ''')"
   ]
  },
  {
   "cell_type": "markdown",
   "id": "fa71b593",
   "metadata": {},
   "source": [
    "### Spectra\n",
    "\n",
    "Loop over all images and show gallery."
   ]
  },
  {
   "cell_type": "code",
   "execution_count": null,
   "id": "47f1d2ea",
   "metadata": {
    "scrolled": false
   },
   "outputs": [],
   "source": [
    "files = sorted(glob.glob(\"Spectra/*_processed.jpg\"))\n",
    "files.sort()\n",
    "\n",
    "gallery(files)"
   ]
  },
  {
   "cell_type": "code",
   "execution_count": null,
   "id": "7522dca8",
   "metadata": {
    "scrolled": true
   },
   "outputs": [],
   "source": []
  }
 ],
 "metadata": {
  "kernelspec": {
   "display_name": "Python 3",
   "language": "python",
   "name": "python3"
  },
  "language_info": {
   "codemirror_mode": {
    "name": "ipython",
    "version": 3
   },
   "file_extension": ".py",
   "mimetype": "text/x-python",
   "name": "python",
   "nbconvert_exporter": "python",
   "pygments_lexer": "ipython3",
   "version": "3.7.3"
  }
 },
 "nbformat": 4,
 "nbformat_minor": 5
}
