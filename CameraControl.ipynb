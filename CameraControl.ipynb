{
 "cells": [
  {
   "cell_type": "markdown",
   "id": "c442d688",
   "metadata": {},
   "source": [
    "### Getting the camera working\n",
    "\n",
    "Here are some steps needed. First you need to enable the camera. In a terminal type `sudo raspi-config` and then use the arrow keys to select interface options and then enable the camera. A reboot is required.\n",
    "\n",
    "Next we need to install the picamera Python modulg. In a terminal type the command\n",
    "\n",
    "`sudo apt-get install python3-picamera`\n",
    "\n",
    "Because the red led on the camera creates light inside the spectrometer, we can turn it off by adding this line in `/boot/config.txt` and rebooting\n",
    "\n",
    "`disable_camera_led=1`\n",
    "\n",
    "That's it."
   ]
  },
  {
   "cell_type": "code",
   "execution_count": null,
   "id": "ea801a84",
   "metadata": {},
   "outputs": [],
   "source": [
    "import numpy as np\n",
    "import io\n",
    "import ipywidgets as widgets\n",
    "\n",
    "from picamera import PiCamera\n",
    "from PIL import Image, ImageDraw\n",
    "from time import sleep, strftime\n",
    "from IPython.display import clear_output"
   ]
  },
  {
   "cell_type": "markdown",
   "id": "bb912792",
   "metadata": {},
   "source": [
    "### Routine `takePicture()`\n",
    "\n",
    "To make things easy, we define a routine to take an image with the Raspberry Pi Camera. The camera you have has a maximum resolution of 2592 x 1944 pixels. The options are set for the spectrometer setup. Note we rotate the image 270 degrees."
   ]
  },
  {
   "cell_type": "code",
   "execution_count": null,
   "id": "3946852a",
   "metadata": {},
   "outputs": [],
   "source": [
    "def takePicture(shutter):\n",
    "    \n",
    "    print(\"Initialising camera\")\n",
    "    camera = PiCamera()\n",
    "    stream = io.BytesIO()\n",
    "    try:\n",
    "        # Full camera resolution is 2592 x 1944 - we run at 1/4 resolution \n",
    "        camera.resolution = (648, 486)        \n",
    "        camera.framerate= 5\n",
    "        camera.rotation = 270\n",
    "        camera.iso = 800\n",
    "        camera.shutter_speed = shutter\n",
    "        camera.awb_mode = 'off'\n",
    "        camera.awb_gains = (1, 1)\n",
    "\n",
    "        print(\"Allowing camera to warmup\")\n",
    "        sleep(1)\n",
    "        print(\"Capturing image\")\n",
    "\n",
    "        camera.capture(stream, format='jpeg')\n",
    "        stream.seek(0)\n",
    "        raw = Image.open(stream)\n",
    "    finally:\n",
    "        camera.close()\n",
    "    return raw"
   ]
  },
  {
   "cell_type": "markdown",
   "id": "3fb64309",
   "metadata": {},
   "source": [
    "### Trying it out\n",
    "\n",
    "Now let's capture an image and display it. Note that the argument shutter specifies the time to expose the image in micro-seconds - so 1,000,000 is one second. the maximum exposure the camera can do is 6,000,000 or 6 seconds."
   ]
  },
  {
   "cell_type": "code",
   "execution_count": null,
   "id": "7fe1d869",
   "metadata": {
    "scrolled": false
   },
   "outputs": [],
   "source": [
    "shutter = 100000\n",
    "image = takePicture(shutter)\n",
    "\n",
    "image  # This will show the captured image"
   ]
  },
  {
   "cell_type": "markdown",
   "id": "558966d3",
   "metadata": {},
   "source": [
    "If you see an image - woohoo 🎉🥳. You connected the camera correctly and the code is working. Try different exposure times."
   ]
  },
  {
   "cell_type": "code",
   "execution_count": null,
   "id": "ee548e94",
   "metadata": {},
   "outputs": [],
   "source": []
  }
 ],
 "metadata": {
  "kernelspec": {
   "display_name": "Python 3",
   "language": "python",
   "name": "python3"
  },
  "language_info": {
   "codemirror_mode": {
    "name": "ipython",
    "version": 3
   },
   "file_extension": ".py",
   "mimetype": "text/x-python",
   "name": "python",
   "nbconvert_exporter": "python",
   "pygments_lexer": "ipython3",
   "version": "3.7.3"
  }
 },
 "nbformat": 4,
 "nbformat_minor": 5
}
