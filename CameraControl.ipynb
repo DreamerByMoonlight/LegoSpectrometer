{
 "cells": [
  {
   "cell_type": "markdown",
   "id": "c442d688",
   "metadata": {},
   "source": [
    "### Getting the camera working\n",
    "\n",
    "Here are some steps needed. First you need to enable the camera. In a terminal type `sudo raspi-config` and then use the arrow keys to select interface options and then enable the camera. A reboot is required.\n",
    "\n",
    "Next we need to install the picamera Python modulg. In a terminal type the command\n",
    "\n",
    "`sudo apt-get install python3-picamera`\n",
    "\n",
    "Because the red led on the camera creates light inside the spectrometer, we can turn it off by adding this line in `/boot/config.txt` and rebooting\n",
    "\n",
    "`disable_camera_led=1`\n",
    "\n",
    "That's it."
   ]
  },
  {
   "cell_type": "code",
   "execution_count": null,
   "id": "ea801a84",
   "metadata": {},
   "outputs": [],
   "source": [
    "import numpy as np\n",
    "import io\n",
    "import ipywidgets as widgets\n",
    "\n",
    "from picamera import PiCamera\n",
    "from PIL import Image\n",
    "from time import sleep, strftime\n",
    "from IPython.display import clear_output"
   ]
  },
  {
   "cell_type": "markdown",
   "id": "bb912792",
   "metadata": {},
   "source": [
    "### Routine `takePicture()`\n",
    "\n",
    "To make things easy, we define a routine to take an image with the Raspberry Pi Camera. The camera you have has a maximum resolution of 2592 x 1944 pixels. The options are set for the spectrometer setup. Note we rotate the image 270 degrees."
   ]
  },
  {
   "cell_type": "code",
   "execution_count": null,
   "id": "3946852a",
   "metadata": {},
   "outputs": [],
   "source": [
    "def takePicture(shutter):\n",
    "    print(\"Initialising camera\")\n",
    "    camera = PiCamera()\n",
    "    stream = io.BytesIO()\n",
    "    try:\n",
    "        camera.resolution = (1296, 972)        \n",
    "        camera.framerate= 5\n",
    "        camera.rotation = 270\n",
    "        camera.iso = 800\n",
    "        camera.shutter_speed = shutter\n",
    "        camera.awb_mode = 'off'\n",
    "        camera.awb_gains = (1, 1)\n",
    "\n",
    "        print(\"Allowing camera to warmup\")\n",
    "        sleep(1)\n",
    "        print(\"Capturing image\")\n",
    "\n",
    "        camera.capture(stream, format='jpeg')\n",
    "        stream.seek(0)\n",
    "        raw = Image.open(stream)\n",
    "    finally:\n",
    "        camera.close()\n",
    "    return raw"
   ]
  },
  {
   "cell_type": "markdown",
   "id": "3fb64309",
   "metadata": {},
   "source": [
    "### Trying it out\n",
    "\n",
    "Now let's capture an image and display it. Note that the argument shutter specifies the time to expose the image in micro-seconds - so 1,000,000 is one second. the maximum exposure the camera can do is 6,000,000 or 6 seconds."
   ]
  },
  {
   "cell_type": "code",
   "execution_count": null,
   "id": "7fe1d869",
   "metadata": {},
   "outputs": [],
   "source": [
    "shutter = 1000000\n",
    "image = takePicture(shutter)\n",
    "\n",
    "image  # This will show the captured image"
   ]
  },
  {
   "cell_type": "markdown",
   "id": "558966d3",
   "metadata": {},
   "source": [
    "If you see an image - woohoo 🎉🥳. You connected the camera correctly and the code is working. Try different exposure times."
   ]
  },
  {
   "cell_type": "markdown",
   "id": "f515e9d4",
   "metadata": {},
   "source": [
    "### Making a nice interface\n",
    "\n",
    "The package `ipywidgets` allows us to build a nice interface for our camera and later the spectrometer. We will build a row with an input field for exposure (in seconds), a button to take the image and a field to display the image. Look at the comments in the code."
   ]
  },
  {
   "cell_type": "code",
   "execution_count": null,
   "id": "d9ba48ea",
   "metadata": {},
   "outputs": [],
   "source": [
    "# This is the routine we call when the button is pressed\n",
    "def takeImage(self):\n",
    "    with output:\n",
    "        output.clear_output()\n",
    "        button.description=\"Please wait\"\n",
    "        shutter = float(exposure.value)\n",
    "        img = takePicture(int(shutter * 1000000))\n",
    "        ibytes = io.BytesIO()\n",
    "        img.save(ibytes, format='JPEG')\n",
    "        image.value = ibytes.getvalue()\n",
    "        button.description=\"Take another one\""
   ]
  },
  {
   "cell_type": "code",
   "execution_count": null,
   "id": "32e70a2e",
   "metadata": {},
   "outputs": [],
   "source": [
    "# Field to enter exposure time\n",
    "exposure = widgets.Text(value='1', placeholder='', description='Exposure (s):', disabled=False)\n",
    "\n",
    "# Field for the image\n",
    "file = open(\"Images/Camera.png\", \"rb\")\n",
    "start = file.read()\n",
    "image = widgets.Image(value=start, width=1296/4, height=972/4, format='jpg')\n",
    "\n",
    "# Button and button callback\n",
    "button = widgets.Button(description='Take picture', disabled=False, button_style='success')\n",
    "button.on_click(takeImage)\n",
    "\n",
    "# Output field for all print statements\n",
    "output = widgets.Output()\n",
    "\n",
    "# Create and show the layout\n",
    "control=widgets.HBox([exposure, button])\n",
    "middle=widgets.HBox([image,output])\n",
    "layout=widgets.VBox([control,middle])\n",
    "display(layout)\n",
    "\n",
    "with output:\n",
    "    print (\"Camera ready ..\")"
   ]
  },
  {
   "cell_type": "code",
   "execution_count": null,
   "id": "be7049a9",
   "metadata": {},
   "outputs": [],
   "source": []
  }
 ],
 "metadata": {
  "kernelspec": {
   "display_name": "Python 3",
   "language": "python",
   "name": "python3"
  },
  "language_info": {
   "codemirror_mode": {
    "name": "ipython",
    "version": 3
   },
   "file_extension": ".py",
   "mimetype": "text/x-python",
   "name": "python",
   "nbconvert_exporter": "python",
   "pygments_lexer": "ipython3",
   "version": "3.7.3"
  }
 },
 "nbformat": 4,
 "nbformat_minor": 5
}
