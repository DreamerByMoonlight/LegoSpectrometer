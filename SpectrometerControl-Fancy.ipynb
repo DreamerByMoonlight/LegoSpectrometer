{
 "cells": [
  {
   "cell_type": "markdown",
   "id": "c442d688",
   "metadata": {},
   "source": [
    "### Getting the camera working\n",
    "\n",
    "Here are some steps needed. First you need to enable the camera. In a terminal type `sudo raspi-config` and then use the arrow keys to select interface options and then enable the camera. A reboot is required.\n",
    "\n",
    "Next we need to install the picamera Python modulg. In a terminal type the command\n",
    "\n",
    "`sudo apt-get install python3-picamera`\n",
    "\n",
    "Because the red led on the camera creates light inside the spectrometer, we can turn it off by adding this line in `/boot/config.txt` and rebooting\n",
    "\n",
    "`disable_camera_led=1`\n",
    "\n",
    "That's it."
   ]
  },
  {
   "cell_type": "code",
   "execution_count": null,
   "id": "ea801a84",
   "metadata": {},
   "outputs": [],
   "source": [
    "import numpy as np\n",
    "import io\n",
    "import matplotlib.pyplot as plt\n",
    "import matplotlib.image as img\n",
    "import ipywidgets as widgets\n",
    "\n",
    "from picamera import PiCamera\n",
    "from PIL import Image\n",
    "from time import sleep, strftime\n",
    "from IPython.display import clear_output"
   ]
  },
  {
   "cell_type": "markdown",
   "id": "bb912792",
   "metadata": {},
   "source": [
    "### Some helper routines"
   ]
  },
  {
   "cell_type": "code",
   "execution_count": null,
   "id": "3946852a",
   "metadata": {},
   "outputs": [],
   "source": [
    "def take_picture(shutter):\n",
    "    print(\"Initialising camera\")\n",
    "    camera = PiCamera()\n",
    "    stream = io.BytesIO()\n",
    "    try:\n",
    "        print(\"Allowing camera to warmup\")\n",
    "        # Full camera resolution is 2592 x 1944 - we run at 1/4 resolution \n",
    "        camera.resolution = (648, 486)     \n",
    "        camera.framerate= 5\n",
    "        camera.rotation = 270\n",
    "        camera.iso = 800\n",
    "        camera.shutter_speed = shutter\n",
    "        #camera.zoom = (0.50, 0.00, 0.08, 0.40)\n",
    "        camera.awb_mode = 'off'\n",
    "        camera.awb_gains = (1, 1)\n",
    "        sleep(3)\n",
    "        print(\"Capturing image\")\n",
    "        camera.capture(stream, format='jpeg')\n",
    "        stream.seek(0)\n",
    "        raw = Image.open(stream)\n",
    "    finally:\n",
    "        camera.close()\n",
    "    return raw"
   ]
  },
  {
   "cell_type": "code",
   "execution_count": null,
   "id": "6bc5bd34",
   "metadata": {},
   "outputs": [],
   "source": [
    "def process_image(pixels):\n",
    "  \n",
    "    # Averaging along y\n",
    "    pixels = np.average(pixels, axis=0)\n",
    "    processed = Image.fromarray(np.uint8([pixels])) # The extra [] is to get back to image dimensions\n",
    "    width, height = processed.size\n",
    "    processed = processed.resize((width,255))\n",
    "    \n",
    "    return processed"
   ]
  },
  {
   "cell_type": "code",
   "execution_count": null,
   "id": "d8bab52b",
   "metadata": {},
   "outputs": [],
   "source": [
    "def autocrop(img,xmin,xmax):\n",
    "    \n",
    "    pixels = np.asarray(img)\n",
    "    \n",
    "    # Get avergae value across each row in the image\n",
    "    line = np.average(pixels[xmin:xmax,:,:], axis=(1,2))\n",
    "    \n",
    "    # Find all rows where the average value is above the threshhold\n",
    "    thresh = 0.8*line.max()\n",
    "    print('Row values: Max={:.1f}, Min={:.1f}, Treshhold={:.1f}'.format(line.max(),line.min(),thresh))    \n",
    "    use = np.where(line > thresh)\n",
    "    \n",
    "    # Store the results in variables\n",
    "    top = use[0][0]\n",
    "    bottom = use[0][-1]\n",
    "    left = xmin\n",
    "    right = xmax\n",
    "    print('Cropping: ',top, bottom, left, right)\n",
    "    \n",
    "    # Return just the cropped part of the image\n",
    "    return pixels[top:bottom,left:right,:]"
   ]
  },
  {
   "cell_type": "code",
   "execution_count": null,
   "id": "566878d1",
   "metadata": {},
   "outputs": [],
   "source": [
    "def get_spectrum(processed):\n",
    "    spectrum = np.asarray(processed)\n",
    "    spectrum = np.average(spectrum[0], axis=1)\n",
    "    spectrum = spectrum-(0.9*min(spectrum))  # Subtract baseline\n",
    "    spectrum = spectrum*(200/max(spectrum))  # Normalize to 200\n",
    "    \n",
    "    return spectrum"
   ]
  },
  {
   "cell_type": "code",
   "execution_count": null,
   "id": "49513b86",
   "metadata": {},
   "outputs": [],
   "source": [
    "def display_results(raw,cropped,processed,spectrum,fname,shutter):\n",
    "    plt.rcParams[\"figure.figsize\"] = (15,10)\n",
    "    plt.rcParams.update({'font.size': 16})\n",
    "\n",
    "    plt.subplots_adjust(left=0.1,\n",
    "                    bottom=0.1, \n",
    "                    right=0.9, \n",
    "                    top=0.9, \n",
    "                    wspace=0.4, \n",
    "                    hspace=0.4)\n",
    "    \n",
    "    pixels = np.asarray(processed)\n",
    "    maxcol = [pixels[:,:,0].max(),pixels[:,:,1].max(),pixels[:,:,2].max()]\n",
    "    factor = int(255 / max(maxcol))\n",
    "    print ('Brightness factor : ', factor)\n",
    "    pixels = factor*pixels\n",
    "    \n",
    "    plt.subplot(2,1,2)\n",
    "    plt.xlabel('Pixel')\n",
    "    plt.yticks([])\n",
    "    plt.title('ORCSGirls Lego Spectrometer - Exposure: {}'.format(shutter))    \n",
    "    plt.imshow(pixels, origin='lower')\n",
    "    plt.plot(spectrum, color='yellow')\n",
    "    \n",
    "    plt.subplot(2,2,1)\n",
    "    plt.title('Raw image') \n",
    "    plt.imshow(raw, origin='lower')\n",
    "    \n",
    "    plt.subplot(2,2,2)\n",
    "    plt.title('Cropped image') \n",
    "    plt.imshow(cropped, origin='lower')\n",
    "\n",
    "    plt.savefig(fname+'_processed.jpg')\n",
    "    print(\"Plot saved to \"+fname+\"_processed.jpg\")\n",
    "    plt.show()"
   ]
  },
  {
   "cell_type": "markdown",
   "id": "d6ac23f1",
   "metadata": {},
   "source": [
    "### Main control program"
   ]
  },
  {
   "cell_type": "code",
   "execution_count": null,
   "id": "095a998f",
   "metadata": {},
   "outputs": [],
   "source": [
    "shutter = 2000      # Max exposure time (in usec - 6,000,000 max - 6sec)\n",
    "xmin = 5             # Left most image pixel to use\n",
    "xmax = 800           # Right most image pixel to use\n",
    "\n",
    "timestr = strftime(\"%Y%m%d-%H%M%S\")\n",
    "fname = 'Spectra/Spectrum-'+timestr\n",
    "\n",
    "raw = take_picture(shutter)\n",
    "raw.save(fname+\"_raw.jpg\")\n",
    "\n",
    "cropped = autocrop(raw, xmin, xmax)\n",
    "processed = process_image(cropped)\n",
    "spectrum = get_spectrum(processed)\n",
    "\n",
    "display_results(raw,cropped, processed, spectrum, fname, shutter)"
   ]
  },
  {
   "cell_type": "code",
   "execution_count": null,
   "id": "f2ea6578",
   "metadata": {},
   "outputs": [],
   "source": []
  }
 ],
 "metadata": {
  "kernelspec": {
   "display_name": "Python 3",
   "language": "python",
   "name": "python3"
  },
  "language_info": {
   "codemirror_mode": {
    "name": "ipython",
    "version": 3
   },
   "file_extension": ".py",
   "mimetype": "text/x-python",
   "name": "python",
   "nbconvert_exporter": "python",
   "pygments_lexer": "ipython3",
   "version": "3.7.3"
  }
 },
 "nbformat": 4,
 "nbformat_minor": 5
}
